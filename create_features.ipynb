{
 "cells": [
  {
   "cell_type": "code",
   "execution_count": 1,
   "metadata": {
    "ExecuteTime": {
     "end_time": "2023-10-17T17:38:50.276152Z",
     "start_time": "2023-10-17T17:38:48.263790Z"
    }
   },
   "outputs": [],
   "source": [
    "from os import listdir\n",
    "from os.path import isfile, join\n",
    "import pandas as pd\n",
    "import sys\n",
    "from scipy.io import arff\n",
    "import models\n",
    "import warnings\n",
    "\n",
    "warnings.filterwarnings(\"ignore\", category=DeprecationWarning)\n",
    " \n",
    "path = '/Users/davidtigau/Documents/Courses/Research Topics in Data Mining/Assignments/Research Paper/datasets'\n",
    "dataset_names = [f for f in listdir(path) if isfile(join(path, f))]"
   ]
  },
  {
   "cell_type": "code",
   "execution_count": 2,
   "metadata": {
    "ExecuteTime": {
     "end_time": "2023-10-17T17:38:50.289435Z",
     "start_time": "2023-10-17T17:38:50.280424Z"
    }
   },
   "outputs": [],
   "source": [
    "def preprocess_dataset(df):\n",
    "    for column in list(df.columns):\n",
    "        if str(df[column][1]).startswith('b'):\n",
    "            unique = df[column].unique()\n",
    "            df[column] = df[column].map({unique[0]: 0, unique[1]: 1})\n",
    "    df = df.dropna()\n",
    "    return df"
   ]
  },
  {
   "cell_type": "code",
   "execution_count": 3,
   "metadata": {
    "ExecuteTime": {
     "end_time": "2023-10-17T17:38:50.315626Z",
     "start_time": "2023-10-17T17:38:50.288903Z"
    }
   },
   "outputs": [],
   "source": [
    "target_columns = [\"class\", \"Class\", \"class\", \"class\", \"contact-lenses\", \"Class\", \"class\", \"Contraceptive_method_used\", \"Class_Rings\", \"Type\", \"class\", \"class\", \"class\", \"class\", \"Class_Rings\", \"Class\", \"Survival_status\", \"type\", \"class\"]"
   ]
  },
  {
   "cell_type": "code",
   "execution_count": 4,
   "metadata": {
    "ExecuteTime": {
     "end_time": "2023-10-17T17:38:50.322430Z",
     "start_time": "2023-10-17T17:38:50.303614Z"
    }
   },
   "outputs": [],
   "source": [
    "def load_datasets(path):\n",
    "\n",
    "    datasets = []\n",
    "    dataset_names = [f for f in listdir(path) if isfile(join(path, f)) and f.endswith('.arff')]\n",
    "    for i in range(len(dataset_names)):\n",
    "        try:\n",
    "            print(dataset_names[i])\n",
    "            data = arff.loadarff(path+'/'+dataset_names[i])\n",
    "            df = pd.DataFrame(data[0])\n",
    "            df = preprocess_dataset(df)\n",
    "            datasets.append(df)\n",
    "        except:\n",
    "            pass\n",
    "    return datasets"
   ]
  },
  {
   "cell_type": "code",
   "execution_count": 5,
   "metadata": {
    "ExecuteTime": {
     "end_time": "2023-10-17T17:38:50.424587Z",
     "start_time": "2023-10-17T17:38:50.312157Z"
    }
   },
   "outputs": [
    {
     "name": "stdout",
     "output_type": "stream",
     "text": [
      "abalone.arff\n",
      "credit-a.arff\n",
      "soybean.arff\n",
      "ionosphere.arff\n"
     ]
    }
   ],
   "source": [
    "datasets = load_datasets(path)"
   ]
  },
  {
   "cell_type": "code",
   "execution_count": 6,
   "metadata": {
    "ExecuteTime": {
     "end_time": "2023-10-17T17:38:50.436661Z",
     "start_time": "2023-10-17T17:38:50.423067Z"
    }
   },
   "outputs": [],
   "source": [
    "def run_algorithms(df, i):\n",
    "    df = df.dropna()\n",
    "    target = df.columns[-1]\n",
    "    \n",
    "    print(\"__________________________________________\")\n",
    "    print(\"START Dataset: \", dataset_names[i])\n",
    "    print(\"__________________________________________\")\n",
    "    \n",
    "    #run sd\n",
    "    # sd = models.sd(df, target)\n",
    "    # print(sd.values())\n",
    "\n",
    "    #cn2_sd\n",
    "    print(\"CN2_SD\")\n",
    "    cn2_sd = models.cn2_sd(df, target)\n",
    "    print(cn2_sd.values())\n",
    "    print(\"__________________________________________\")\n",
    "\n",
    "    #run sd_map\n",
    "    print(\"SD_MAP\")\n",
    "    sd_map = models.sd_map(df, target, min_support=0.1)\n",
    "    print(sd_map)\n",
    "    print(\"__________________________________________\")\n",
    "\n",
    "    #run dssd\n",
    "    print(\"DSSD\")\n",
    "    dssd = models.dssd(df, target, min_support=0.1)\n",
    "    print(dssd)\n",
    "    print(\"__________________________________________\")\n",
    "\n",
    "    #run nmeef\n",
    "    print(\"NMEEF-SD\")\n",
    "    nmeef = models.nmeef_sd(df, target)\n",
    "    print(nmeef)\n",
    "    print(\"__________________________________________\")\n",
    "\n",
    "    #run apriori\n",
    "    print(\"Apriori-SD\")\n",
    "    a = models.apriori_sd(df, target)\n",
    "    print(a)\n",
    "    print(\"__________________________________________\")\n",
    "    print(\"END Dataset: \", dataset_names[i])\n",
    "    print(\"__________________________________________\")\n"
   ]
  },
  {
   "cell_type": "code",
   "execution_count": 7,
   "metadata": {
    "ExecuteTime": {
     "end_time": "2023-10-17T17:49:22.603598Z",
     "start_time": "2023-10-17T17:38:50.431098Z"
    }
   },
   "outputs": [
    {
     "name": "stdout",
     "output_type": "stream",
     "text": [
      "__________________________________________\n",
      "START Dataset:  abalone.arff\n",
      "__________________________________________\n",
      "CN2_SD\n",
      "dict_values([-0.2137188937705454, 0.6628151260504203, 7, 3.0])\n",
      "__________________________________________\n",
      "SD_MAP\n",
      "      support            itemsets   quality\n",
      "53   0.102941           (A15, A9)  0.595588\n",
      "17   0.125000            (A9, A1)  0.595588\n",
      "7    0.323529                (A9)  0.550134\n",
      "26   0.125000            (A9, A2)  0.536765\n",
      "51   0.117647           (A9, A12)  0.533088\n",
      "..        ...                 ...       ...\n",
      "89   0.117647        (A8, A7, A3) -0.341912\n",
      "67   0.117647       (A8, A11, A1) -0.341912\n",
      "77   0.117647        (A8, A7, A2) -0.341912\n",
      "113  0.117647  (A8, A15, A11, A3) -0.341912\n",
      "106  0.125000      (A8, A15, A12) -0.345588\n",
      "\n",
      "[114 rows x 3 columns]\n",
      "__________________________________________\n",
      "DSSD\n",
      "{'Average Quality': -0.07407547571481456, 'Average Coverage': 18.666666666666668, 'Average Support': 0.13725490196078433, 'Number of Subgroups': 72, 'Average Length of Subgroups': 0}\n",
      "__________________________________________\n",
      "NMEEF-SD\n",
      "                                                  rule   quality\n",
      "125                         A1, A2, A11, A12, A14, A15  0.002608\n",
      "189                                             A1, A8  0.001203\n",
      "238                              A1, A8, A11, A14, A15  0.001203\n",
      "18                            A1, A2, A3, A5, A12, A14  0.000000\n",
      "19                        A1, A2, A3, A6, A8, A11, A14  0.000000\n",
      "2                                 A1, A2, A5, A11, A14  0.000000\n",
      "17                            A1, A2, A3, A5, A10, A12  0.000000\n",
      "16                        A1, A2, A3, A4, A5, A11, A14  0.000000\n",
      "3                                 A1, A2, A5, A12, A15  0.000000\n",
      "9                                 A1, A2, A4, A12, A13  0.000000\n",
      "14                            A1, A2, A4, A5, A11, A14  0.000000\n",
      "4                                  A1, A2, A6, A8, A14  0.000000\n",
      "12                            A1, A2, A4, A5, A10, A11  0.000000\n",
      "7                                   A1, A2, A4, A6, A7  0.000000\n",
      "8                                       A1, A2, A4, A7  0.000000\n",
      "21                   A1, A2, A3, A4, A5, A10, A12, A14  0.000000\n",
      "84   A1, A2, A3, A4, A5, A6, A7, A8, A9, A10, A11, ...  0.000000\n",
      "24                              A1, A2, A3, A4, A7, A8  0.000000\n",
      "89   A1, A2, A3, A4, A5, A6, A7, A8, A9, A10, A11, ...  0.000000\n",
      "74             A1, A2, A3, A4, A5, A6, A7, A8, A9, A10  0.000000\n",
      "64             A1, A2, A3, A4, A5, A6, A7, A8, A9, A12  0.000000\n",
      "59   A1, A2, A3, A4, A5, A6, A7, A8, A10, A11, A13,...  0.000000\n",
      "54       A1, A2, A3, A4, A5, A6, A7, A8, A10, A13, A14  0.000000\n",
      "44            A1, A2, A3, A4, A5, A6, A7, A8, A10, A13  0.000000\n",
      "34                    A1, A2, A3, A4, A5, A6, A11, A14  0.000000\n",
      "33               A1, A2, A3, A4, A5, A6, A10, A11, A14  0.000000\n",
      "32                 A1, A2, A3, A4, A5, A6, A7, A8, A13  0.000000\n",
      "28                         A1, A2, A3, A4, A5, A8, A13  0.000000\n",
      "__________________________________________\n",
      "Apriori-SD\n",
      "                   rule consequent   support  confidence      lift\n",
      "94            A9 AND A1      class  0.125000    1.000000  2.472727\n",
      "327          A15 AND A9      class  0.102941    1.000000  2.472727\n",
      "51                   A9      class  0.308824    0.954545  2.360331\n",
      "175           A9 AND A2      class  0.117647    0.941176  2.327273\n",
      "317          A9 AND A12      class  0.110294    0.937500  2.318182\n",
      "322          A14 AND A9      class  0.205882    0.933333  2.307879\n",
      "311          A10 AND A9      class  0.191176    0.928571  2.296104\n",
      "400  A10 AND A14 AND A9      class  0.147059    0.909091  2.247934\n",
      "105          A14 AND A1      class  0.102941    0.700000  1.730909\n",
      "337         A10 AND A14      class  0.176471    0.631579  1.561722\n",
      "65                  A14      class  0.286765    0.573529  1.418182\n",
      "56                  A10      class  0.220588    0.535714  1.324675\n",
      "352         A14 AND A12      class  0.139706    0.500000  1.236364\n",
      "211          A14 AND A2      class  0.125000    0.459459  1.136118\n",
      "__________________________________________\n",
      "END Dataset:  abalone.arff\n",
      "__________________________________________\n",
      "__________________________________________\n",
      "START Dataset:  credit-a.arff\n",
      "__________________________________________\n",
      "CN2_SD\n",
      "dict_values([-0.21499597379977164, 0.6651126651126651, 11, 3.0])\n",
      "__________________________________________\n",
      "SD_MAP\n"
     ]
    },
    {
     "ename": "KeyboardInterrupt",
     "evalue": "",
     "output_type": "error",
     "traceback": [
      "\u001B[0;31m---------------------------------------------------------------------------\u001B[0m",
      "\u001B[0;31mKeyboardInterrupt\u001B[0m                         Traceback (most recent call last)",
      "Cell \u001B[0;32mIn[7], line 2\u001B[0m\n\u001B[1;32m      1\u001B[0m \u001B[38;5;28;01mfor\u001B[39;00m i \u001B[38;5;129;01min\u001B[39;00m \u001B[38;5;28mrange\u001B[39m(\u001B[38;5;241m1\u001B[39m, \u001B[38;5;28mlen\u001B[39m(datasets)):\n\u001B[0;32m----> 2\u001B[0m     \u001B[43mrun_algorithms\u001B[49m\u001B[43m(\u001B[49m\u001B[43mdatasets\u001B[49m\u001B[43m[\u001B[49m\u001B[43mi\u001B[49m\u001B[43m]\u001B[49m\u001B[43m,\u001B[49m\u001B[43m \u001B[49m\u001B[43mi\u001B[49m\u001B[43m)\u001B[49m\n",
      "Cell \u001B[0;32mIn[6], line 21\u001B[0m, in \u001B[0;36mrun_algorithms\u001B[0;34m(df, i)\u001B[0m\n\u001B[1;32m     19\u001B[0m \u001B[38;5;66;03m#run sd_map\u001B[39;00m\n\u001B[1;32m     20\u001B[0m \u001B[38;5;28mprint\u001B[39m(\u001B[38;5;124m\"\u001B[39m\u001B[38;5;124mSD_MAP\u001B[39m\u001B[38;5;124m\"\u001B[39m)\n\u001B[0;32m---> 21\u001B[0m sd_map \u001B[38;5;241m=\u001B[39m \u001B[43mmodels\u001B[49m\u001B[38;5;241;43m.\u001B[39;49m\u001B[43msd_map\u001B[49m\u001B[43m(\u001B[49m\u001B[43mdf\u001B[49m\u001B[43m,\u001B[49m\u001B[43m \u001B[49m\u001B[43mtarget\u001B[49m\u001B[43m,\u001B[49m\u001B[43m \u001B[49m\u001B[43mmin_support\u001B[49m\u001B[38;5;241;43m=\u001B[39;49m\u001B[38;5;241;43m0.1\u001B[39;49m\u001B[43m)\u001B[49m\n\u001B[1;32m     22\u001B[0m \u001B[38;5;28mprint\u001B[39m(sd_map)\n\u001B[1;32m     23\u001B[0m \u001B[38;5;28mprint\u001B[39m(\u001B[38;5;124m\"\u001B[39m\u001B[38;5;124m__________________________________________\u001B[39m\u001B[38;5;124m\"\u001B[39m)\n",
      "File \u001B[0;32m~/Documents/Courses/Research Topics in Data Mining/Assignments/Research Paper/models.py:194\u001B[0m, in \u001B[0;36msd_map\u001B[0;34m(data, target_column, min_support)\u001B[0m\n\u001B[1;32m    191\u001B[0m support_list \u001B[38;5;241m=\u001B[39m []\n\u001B[1;32m    193\u001B[0m \u001B[38;5;28;01mfor\u001B[39;00m _, row \u001B[38;5;129;01min\u001B[39;00m frequent_itemsets\u001B[38;5;241m.\u001B[39miterrows():\n\u001B[0;32m--> 194\u001B[0m     subgroup_data \u001B[38;5;241m=\u001B[39m \u001B[43mdata\u001B[49m\u001B[43m[\u001B[49m\u001B[43mnp\u001B[49m\u001B[38;5;241;43m.\u001B[39;49m\u001B[43mlogical_and\u001B[49m\u001B[38;5;241;43m.\u001B[39;49m\u001B[43mreduce\u001B[49m\u001B[43m(\u001B[49m\u001B[43m[\u001B[49m\u001B[43mdata\u001B[49m\u001B[43m[\u001B[49m\u001B[43mcol\u001B[49m\u001B[43m]\u001B[49m\u001B[43m \u001B[49m\u001B[38;5;28;43;01mfor\u001B[39;49;00m\u001B[43m \u001B[49m\u001B[43mcol\u001B[49m\u001B[43m \u001B[49m\u001B[38;5;129;43;01min\u001B[39;49;00m\u001B[43m \u001B[49m\u001B[43mrow\u001B[49m\u001B[43m[\u001B[49m\u001B[38;5;124;43m'\u001B[39;49m\u001B[38;5;124;43mitemsets\u001B[39;49m\u001B[38;5;124;43m'\u001B[39;49m\u001B[43m]\u001B[49m\u001B[43m]\u001B[49m\u001B[43m)\u001B[49m\u001B[43m]\u001B[49m\n\u001B[1;32m    195\u001B[0m     subgroup_mean \u001B[38;5;241m=\u001B[39m subgroup_data[target_column]\u001B[38;5;241m.\u001B[39mmean()\n\u001B[1;32m    196\u001B[0m     coverage \u001B[38;5;241m=\u001B[39m \u001B[38;5;28mlen\u001B[39m(subgroup_data)\n",
      "File \u001B[0;32m~/opt/anaconda3/envs/RTDM/lib/python3.8/site-packages/pandas/core/frame.py:3752\u001B[0m, in \u001B[0;36mDataFrame.__getitem__\u001B[0;34m(self, key)\u001B[0m\n\u001B[1;32m   3750\u001B[0m \u001B[38;5;66;03m# Do we have a (boolean) 1d indexer?\u001B[39;00m\n\u001B[1;32m   3751\u001B[0m \u001B[38;5;28;01mif\u001B[39;00m com\u001B[38;5;241m.\u001B[39mis_bool_indexer(key):\n\u001B[0;32m-> 3752\u001B[0m     \u001B[38;5;28;01mreturn\u001B[39;00m \u001B[38;5;28;43mself\u001B[39;49m\u001B[38;5;241;43m.\u001B[39;49m\u001B[43m_getitem_bool_array\u001B[49m\u001B[43m(\u001B[49m\u001B[43mkey\u001B[49m\u001B[43m)\u001B[49m\n\u001B[1;32m   3754\u001B[0m \u001B[38;5;66;03m# We are left with two options: a single key, and a collection of keys,\u001B[39;00m\n\u001B[1;32m   3755\u001B[0m \u001B[38;5;66;03m# We interpret tuples as collections only for non-MultiIndex\u001B[39;00m\n\u001B[1;32m   3756\u001B[0m is_single_key \u001B[38;5;241m=\u001B[39m \u001B[38;5;28misinstance\u001B[39m(key, \u001B[38;5;28mtuple\u001B[39m) \u001B[38;5;129;01mor\u001B[39;00m \u001B[38;5;129;01mnot\u001B[39;00m is_list_like(key)\n",
      "File \u001B[0;32m~/opt/anaconda3/envs/RTDM/lib/python3.8/site-packages/pandas/core/frame.py:3811\u001B[0m, in \u001B[0;36mDataFrame._getitem_bool_array\u001B[0;34m(self, key)\u001B[0m\n\u001B[1;32m   3808\u001B[0m     \u001B[38;5;28;01mreturn\u001B[39;00m \u001B[38;5;28mself\u001B[39m\u001B[38;5;241m.\u001B[39mcopy(deep\u001B[38;5;241m=\u001B[39m\u001B[38;5;28;01mNone\u001B[39;00m)\n\u001B[1;32m   3810\u001B[0m indexer \u001B[38;5;241m=\u001B[39m key\u001B[38;5;241m.\u001B[39mnonzero()[\u001B[38;5;241m0\u001B[39m]\n\u001B[0;32m-> 3811\u001B[0m \u001B[38;5;28;01mreturn\u001B[39;00m \u001B[38;5;28;43mself\u001B[39;49m\u001B[38;5;241;43m.\u001B[39;49m\u001B[43m_take_with_is_copy\u001B[49m\u001B[43m(\u001B[49m\u001B[43mindexer\u001B[49m\u001B[43m,\u001B[49m\u001B[43m \u001B[49m\u001B[43maxis\u001B[49m\u001B[38;5;241;43m=\u001B[39;49m\u001B[38;5;241;43m0\u001B[39;49m\u001B[43m)\u001B[49m\n",
      "File \u001B[0;32m~/opt/anaconda3/envs/RTDM/lib/python3.8/site-packages/pandas/core/generic.py:3948\u001B[0m, in \u001B[0;36mNDFrame._take_with_is_copy\u001B[0;34m(self, indices, axis)\u001B[0m\n\u001B[1;32m   3940\u001B[0m \u001B[38;5;28;01mdef\u001B[39;00m \u001B[38;5;21m_take_with_is_copy\u001B[39m(\u001B[38;5;28mself\u001B[39m: NDFrameT, indices, axis: Axis \u001B[38;5;241m=\u001B[39m \u001B[38;5;241m0\u001B[39m) \u001B[38;5;241m-\u001B[39m\u001B[38;5;241m>\u001B[39m NDFrameT:\n\u001B[1;32m   3941\u001B[0m \u001B[38;5;250m    \u001B[39m\u001B[38;5;124;03m\"\"\"\u001B[39;00m\n\u001B[1;32m   3942\u001B[0m \u001B[38;5;124;03m    Internal version of the `take` method that sets the `_is_copy`\u001B[39;00m\n\u001B[1;32m   3943\u001B[0m \u001B[38;5;124;03m    attribute to keep track of the parent dataframe (using in indexing\u001B[39;00m\n\u001B[0;32m   (...)\u001B[0m\n\u001B[1;32m   3946\u001B[0m \u001B[38;5;124;03m    See the docstring of `take` for full explanation of the parameters.\u001B[39;00m\n\u001B[1;32m   3947\u001B[0m \u001B[38;5;124;03m    \"\"\"\u001B[39;00m\n\u001B[0;32m-> 3948\u001B[0m     result \u001B[38;5;241m=\u001B[39m \u001B[38;5;28;43mself\u001B[39;49m\u001B[38;5;241;43m.\u001B[39;49m\u001B[43m_take\u001B[49m\u001B[43m(\u001B[49m\u001B[43mindices\u001B[49m\u001B[38;5;241;43m=\u001B[39;49m\u001B[43mindices\u001B[49m\u001B[43m,\u001B[49m\u001B[43m \u001B[49m\u001B[43maxis\u001B[49m\u001B[38;5;241;43m=\u001B[39;49m\u001B[43maxis\u001B[49m\u001B[43m)\u001B[49m\n\u001B[1;32m   3949\u001B[0m     \u001B[38;5;66;03m# Maybe set copy if we didn't actually change the index.\u001B[39;00m\n\u001B[1;32m   3950\u001B[0m     \u001B[38;5;28;01mif\u001B[39;00m \u001B[38;5;129;01mnot\u001B[39;00m result\u001B[38;5;241m.\u001B[39m_get_axis(axis)\u001B[38;5;241m.\u001B[39mequals(\u001B[38;5;28mself\u001B[39m\u001B[38;5;241m.\u001B[39m_get_axis(axis)):\n",
      "File \u001B[0;32m~/opt/anaconda3/envs/RTDM/lib/python3.8/site-packages/pandas/core/generic.py:3932\u001B[0m, in \u001B[0;36mNDFrame._take\u001B[0;34m(self, indices, axis, convert_indices)\u001B[0m\n\u001B[1;32m   3924\u001B[0m     \u001B[38;5;28;01mif\u001B[39;00m (\n\u001B[1;32m   3925\u001B[0m         axis \u001B[38;5;241m==\u001B[39m \u001B[38;5;241m0\u001B[39m\n\u001B[1;32m   3926\u001B[0m         \u001B[38;5;129;01mand\u001B[39;00m indices\u001B[38;5;241m.\u001B[39mndim \u001B[38;5;241m==\u001B[39m \u001B[38;5;241m1\u001B[39m\n\u001B[1;32m   3927\u001B[0m         \u001B[38;5;129;01mand\u001B[39;00m using_copy_on_write()\n\u001B[1;32m   3928\u001B[0m         \u001B[38;5;129;01mand\u001B[39;00m is_range_indexer(indices, \u001B[38;5;28mlen\u001B[39m(\u001B[38;5;28mself\u001B[39m))\n\u001B[1;32m   3929\u001B[0m     ):\n\u001B[1;32m   3930\u001B[0m         \u001B[38;5;28;01mreturn\u001B[39;00m \u001B[38;5;28mself\u001B[39m\u001B[38;5;241m.\u001B[39mcopy(deep\u001B[38;5;241m=\u001B[39m\u001B[38;5;28;01mNone\u001B[39;00m)\n\u001B[0;32m-> 3932\u001B[0m new_data \u001B[38;5;241m=\u001B[39m \u001B[38;5;28;43mself\u001B[39;49m\u001B[38;5;241;43m.\u001B[39;49m\u001B[43m_mgr\u001B[49m\u001B[38;5;241;43m.\u001B[39;49m\u001B[43mtake\u001B[49m\u001B[43m(\u001B[49m\n\u001B[1;32m   3933\u001B[0m \u001B[43m    \u001B[49m\u001B[43mindices\u001B[49m\u001B[43m,\u001B[49m\n\u001B[1;32m   3934\u001B[0m \u001B[43m    \u001B[49m\u001B[43maxis\u001B[49m\u001B[38;5;241;43m=\u001B[39;49m\u001B[38;5;28;43mself\u001B[39;49m\u001B[38;5;241;43m.\u001B[39;49m\u001B[43m_get_block_manager_axis\u001B[49m\u001B[43m(\u001B[49m\u001B[43maxis\u001B[49m\u001B[43m)\u001B[49m\u001B[43m,\u001B[49m\n\u001B[1;32m   3935\u001B[0m \u001B[43m    \u001B[49m\u001B[43mverify\u001B[49m\u001B[38;5;241;43m=\u001B[39;49m\u001B[38;5;28;43;01mTrue\u001B[39;49;00m\u001B[43m,\u001B[49m\n\u001B[1;32m   3936\u001B[0m \u001B[43m    \u001B[49m\u001B[43mconvert_indices\u001B[49m\u001B[38;5;241;43m=\u001B[39;49m\u001B[43mconvert_indices\u001B[49m\u001B[43m,\u001B[49m\n\u001B[1;32m   3937\u001B[0m \u001B[43m\u001B[49m\u001B[43m)\u001B[49m\n\u001B[1;32m   3938\u001B[0m \u001B[38;5;28;01mreturn\u001B[39;00m \u001B[38;5;28mself\u001B[39m\u001B[38;5;241m.\u001B[39m_constructor(new_data)\u001B[38;5;241m.\u001B[39m__finalize__(\u001B[38;5;28mself\u001B[39m, method\u001B[38;5;241m=\u001B[39m\u001B[38;5;124m\"\u001B[39m\u001B[38;5;124mtake\u001B[39m\u001B[38;5;124m\"\u001B[39m)\n",
      "File \u001B[0;32m~/opt/anaconda3/envs/RTDM/lib/python3.8/site-packages/pandas/core/internals/managers.py:963\u001B[0m, in \u001B[0;36mBaseBlockManager.take\u001B[0;34m(self, indexer, axis, verify, convert_indices)\u001B[0m\n\u001B[1;32m    960\u001B[0m     indexer \u001B[38;5;241m=\u001B[39m maybe_convert_indices(indexer, n, verify\u001B[38;5;241m=\u001B[39mverify)\n\u001B[1;32m    962\u001B[0m new_labels \u001B[38;5;241m=\u001B[39m \u001B[38;5;28mself\u001B[39m\u001B[38;5;241m.\u001B[39maxes[axis]\u001B[38;5;241m.\u001B[39mtake(indexer)\n\u001B[0;32m--> 963\u001B[0m \u001B[38;5;28;01mreturn\u001B[39;00m \u001B[38;5;28;43mself\u001B[39;49m\u001B[38;5;241;43m.\u001B[39;49m\u001B[43mreindex_indexer\u001B[49m\u001B[43m(\u001B[49m\n\u001B[1;32m    964\u001B[0m \u001B[43m    \u001B[49m\u001B[43mnew_axis\u001B[49m\u001B[38;5;241;43m=\u001B[39;49m\u001B[43mnew_labels\u001B[49m\u001B[43m,\u001B[49m\n\u001B[1;32m    965\u001B[0m \u001B[43m    \u001B[49m\u001B[43mindexer\u001B[49m\u001B[38;5;241;43m=\u001B[39;49m\u001B[43mindexer\u001B[49m\u001B[43m,\u001B[49m\n\u001B[1;32m    966\u001B[0m \u001B[43m    \u001B[49m\u001B[43maxis\u001B[49m\u001B[38;5;241;43m=\u001B[39;49m\u001B[43maxis\u001B[49m\u001B[43m,\u001B[49m\n\u001B[1;32m    967\u001B[0m \u001B[43m    \u001B[49m\u001B[43mallow_dups\u001B[49m\u001B[38;5;241;43m=\u001B[39;49m\u001B[38;5;28;43;01mTrue\u001B[39;49;00m\u001B[43m,\u001B[49m\n\u001B[1;32m    968\u001B[0m \u001B[43m    \u001B[49m\u001B[43mcopy\u001B[49m\u001B[38;5;241;43m=\u001B[39;49m\u001B[38;5;28;43;01mNone\u001B[39;49;00m\u001B[43m,\u001B[49m\n\u001B[1;32m    969\u001B[0m \u001B[43m\u001B[49m\u001B[43m)\u001B[49m\n",
      "File \u001B[0;32m~/opt/anaconda3/envs/RTDM/lib/python3.8/site-packages/pandas/core/internals/managers.py:747\u001B[0m, in \u001B[0;36mBaseBlockManager.reindex_indexer\u001B[0;34m(self, new_axis, indexer, axis, fill_value, allow_dups, copy, only_slice, use_na_proxy)\u001B[0m\n\u001B[1;32m    740\u001B[0m     new_blocks \u001B[38;5;241m=\u001B[39m \u001B[38;5;28mself\u001B[39m\u001B[38;5;241m.\u001B[39m_slice_take_blocks_ax0(\n\u001B[1;32m    741\u001B[0m         indexer,\n\u001B[1;32m    742\u001B[0m         fill_value\u001B[38;5;241m=\u001B[39mfill_value,\n\u001B[1;32m    743\u001B[0m         only_slice\u001B[38;5;241m=\u001B[39monly_slice,\n\u001B[1;32m    744\u001B[0m         use_na_proxy\u001B[38;5;241m=\u001B[39muse_na_proxy,\n\u001B[1;32m    745\u001B[0m     )\n\u001B[1;32m    746\u001B[0m \u001B[38;5;28;01melse\u001B[39;00m:\n\u001B[0;32m--> 747\u001B[0m     new_blocks \u001B[38;5;241m=\u001B[39m [\n\u001B[1;32m    748\u001B[0m         blk\u001B[38;5;241m.\u001B[39mtake_nd(\n\u001B[1;32m    749\u001B[0m             indexer,\n\u001B[1;32m    750\u001B[0m             axis\u001B[38;5;241m=\u001B[39m\u001B[38;5;241m1\u001B[39m,\n\u001B[1;32m    751\u001B[0m             fill_value\u001B[38;5;241m=\u001B[39m(\n\u001B[1;32m    752\u001B[0m                 fill_value \u001B[38;5;28;01mif\u001B[39;00m fill_value \u001B[38;5;129;01mis\u001B[39;00m \u001B[38;5;129;01mnot\u001B[39;00m \u001B[38;5;28;01mNone\u001B[39;00m \u001B[38;5;28;01melse\u001B[39;00m blk\u001B[38;5;241m.\u001B[39mfill_value\n\u001B[1;32m    753\u001B[0m             ),\n\u001B[1;32m    754\u001B[0m         )\n\u001B[1;32m    755\u001B[0m         \u001B[38;5;28;01mfor\u001B[39;00m blk \u001B[38;5;129;01min\u001B[39;00m \u001B[38;5;28mself\u001B[39m\u001B[38;5;241m.\u001B[39mblocks\n\u001B[1;32m    756\u001B[0m     ]\n\u001B[1;32m    758\u001B[0m new_axes \u001B[38;5;241m=\u001B[39m \u001B[38;5;28mlist\u001B[39m(\u001B[38;5;28mself\u001B[39m\u001B[38;5;241m.\u001B[39maxes)\n\u001B[1;32m    759\u001B[0m new_axes[axis] \u001B[38;5;241m=\u001B[39m new_axis\n",
      "File \u001B[0;32m~/opt/anaconda3/envs/RTDM/lib/python3.8/site-packages/pandas/core/internals/managers.py:748\u001B[0m, in \u001B[0;36m<listcomp>\u001B[0;34m(.0)\u001B[0m\n\u001B[1;32m    740\u001B[0m     new_blocks \u001B[38;5;241m=\u001B[39m \u001B[38;5;28mself\u001B[39m\u001B[38;5;241m.\u001B[39m_slice_take_blocks_ax0(\n\u001B[1;32m    741\u001B[0m         indexer,\n\u001B[1;32m    742\u001B[0m         fill_value\u001B[38;5;241m=\u001B[39mfill_value,\n\u001B[1;32m    743\u001B[0m         only_slice\u001B[38;5;241m=\u001B[39monly_slice,\n\u001B[1;32m    744\u001B[0m         use_na_proxy\u001B[38;5;241m=\u001B[39muse_na_proxy,\n\u001B[1;32m    745\u001B[0m     )\n\u001B[1;32m    746\u001B[0m \u001B[38;5;28;01melse\u001B[39;00m:\n\u001B[1;32m    747\u001B[0m     new_blocks \u001B[38;5;241m=\u001B[39m [\n\u001B[0;32m--> 748\u001B[0m         \u001B[43mblk\u001B[49m\u001B[38;5;241;43m.\u001B[39;49m\u001B[43mtake_nd\u001B[49m\u001B[43m(\u001B[49m\n\u001B[1;32m    749\u001B[0m \u001B[43m            \u001B[49m\u001B[43mindexer\u001B[49m\u001B[43m,\u001B[49m\n\u001B[1;32m    750\u001B[0m \u001B[43m            \u001B[49m\u001B[43maxis\u001B[49m\u001B[38;5;241;43m=\u001B[39;49m\u001B[38;5;241;43m1\u001B[39;49m\u001B[43m,\u001B[49m\n\u001B[1;32m    751\u001B[0m \u001B[43m            \u001B[49m\u001B[43mfill_value\u001B[49m\u001B[38;5;241;43m=\u001B[39;49m\u001B[43m(\u001B[49m\n\u001B[1;32m    752\u001B[0m \u001B[43m                \u001B[49m\u001B[43mfill_value\u001B[49m\u001B[43m \u001B[49m\u001B[38;5;28;43;01mif\u001B[39;49;00m\u001B[43m \u001B[49m\u001B[43mfill_value\u001B[49m\u001B[43m \u001B[49m\u001B[38;5;129;43;01mis\u001B[39;49;00m\u001B[43m \u001B[49m\u001B[38;5;129;43;01mnot\u001B[39;49;00m\u001B[43m \u001B[49m\u001B[38;5;28;43;01mNone\u001B[39;49;00m\u001B[43m \u001B[49m\u001B[38;5;28;43;01melse\u001B[39;49;00m\u001B[43m \u001B[49m\u001B[43mblk\u001B[49m\u001B[38;5;241;43m.\u001B[39;49m\u001B[43mfill_value\u001B[49m\n\u001B[1;32m    753\u001B[0m \u001B[43m            \u001B[49m\u001B[43m)\u001B[49m\u001B[43m,\u001B[49m\n\u001B[1;32m    754\u001B[0m \u001B[43m        \u001B[49m\u001B[43m)\u001B[49m\n\u001B[1;32m    755\u001B[0m         \u001B[38;5;28;01mfor\u001B[39;00m blk \u001B[38;5;129;01min\u001B[39;00m \u001B[38;5;28mself\u001B[39m\u001B[38;5;241m.\u001B[39mblocks\n\u001B[1;32m    756\u001B[0m     ]\n\u001B[1;32m    758\u001B[0m new_axes \u001B[38;5;241m=\u001B[39m \u001B[38;5;28mlist\u001B[39m(\u001B[38;5;28mself\u001B[39m\u001B[38;5;241m.\u001B[39maxes)\n\u001B[1;32m    759\u001B[0m new_axes[axis] \u001B[38;5;241m=\u001B[39m new_axis\n",
      "File \u001B[0;32m~/opt/anaconda3/envs/RTDM/lib/python3.8/site-packages/pandas/core/internals/blocks.py:945\u001B[0m, in \u001B[0;36mBlock.take_nd\u001B[0;34m(self, indexer, axis, new_mgr_locs, fill_value)\u001B[0m\n\u001B[1;32m    942\u001B[0m     allow_fill \u001B[38;5;241m=\u001B[39m \u001B[38;5;28;01mTrue\u001B[39;00m\n\u001B[1;32m    944\u001B[0m \u001B[38;5;66;03m# Note: algos.take_nd has upcast logic similar to coerce_to_target_dtype\u001B[39;00m\n\u001B[0;32m--> 945\u001B[0m new_values \u001B[38;5;241m=\u001B[39m \u001B[43malgos\u001B[49m\u001B[38;5;241;43m.\u001B[39;49m\u001B[43mtake_nd\u001B[49m\u001B[43m(\u001B[49m\n\u001B[1;32m    946\u001B[0m \u001B[43m    \u001B[49m\u001B[43mvalues\u001B[49m\u001B[43m,\u001B[49m\u001B[43m \u001B[49m\u001B[43mindexer\u001B[49m\u001B[43m,\u001B[49m\u001B[43m \u001B[49m\u001B[43maxis\u001B[49m\u001B[38;5;241;43m=\u001B[39;49m\u001B[43maxis\u001B[49m\u001B[43m,\u001B[49m\u001B[43m \u001B[49m\u001B[43mallow_fill\u001B[49m\u001B[38;5;241;43m=\u001B[39;49m\u001B[43mallow_fill\u001B[49m\u001B[43m,\u001B[49m\u001B[43m \u001B[49m\u001B[43mfill_value\u001B[49m\u001B[38;5;241;43m=\u001B[39;49m\u001B[43mfill_value\u001B[49m\n\u001B[1;32m    947\u001B[0m \u001B[43m\u001B[49m\u001B[43m)\u001B[49m\n\u001B[1;32m    949\u001B[0m \u001B[38;5;66;03m# Called from three places in managers, all of which satisfy\u001B[39;00m\n\u001B[1;32m    950\u001B[0m \u001B[38;5;66;03m#  these assertions\u001B[39;00m\n\u001B[1;32m    951\u001B[0m \u001B[38;5;28;01mif\u001B[39;00m \u001B[38;5;28misinstance\u001B[39m(\u001B[38;5;28mself\u001B[39m, ExtensionBlock):\n\u001B[1;32m    952\u001B[0m     \u001B[38;5;66;03m# NB: in this case, the 'axis' kwarg will be ignored in the\u001B[39;00m\n\u001B[1;32m    953\u001B[0m     \u001B[38;5;66;03m#  algos.take_nd call above.\u001B[39;00m\n",
      "File \u001B[0;32m~/opt/anaconda3/envs/RTDM/lib/python3.8/site-packages/pandas/core/array_algos/take.py:117\u001B[0m, in \u001B[0;36mtake_nd\u001B[0;34m(arr, indexer, axis, fill_value, allow_fill)\u001B[0m\n\u001B[1;32m    114\u001B[0m     \u001B[38;5;28;01mreturn\u001B[39;00m arr\u001B[38;5;241m.\u001B[39mtake(indexer, fill_value\u001B[38;5;241m=\u001B[39mfill_value, allow_fill\u001B[38;5;241m=\u001B[39mallow_fill)\n\u001B[1;32m    116\u001B[0m arr \u001B[38;5;241m=\u001B[39m np\u001B[38;5;241m.\u001B[39masarray(arr)\n\u001B[0;32m--> 117\u001B[0m \u001B[38;5;28;01mreturn\u001B[39;00m \u001B[43m_take_nd_ndarray\u001B[49m\u001B[43m(\u001B[49m\u001B[43marr\u001B[49m\u001B[43m,\u001B[49m\u001B[43m \u001B[49m\u001B[43mindexer\u001B[49m\u001B[43m,\u001B[49m\u001B[43m \u001B[49m\u001B[43maxis\u001B[49m\u001B[43m,\u001B[49m\u001B[43m \u001B[49m\u001B[43mfill_value\u001B[49m\u001B[43m,\u001B[49m\u001B[43m \u001B[49m\u001B[43mallow_fill\u001B[49m\u001B[43m)\u001B[49m\n",
      "File \u001B[0;32m~/opt/anaconda3/envs/RTDM/lib/python3.8/site-packages/pandas/core/array_algos/take.py:162\u001B[0m, in \u001B[0;36m_take_nd_ndarray\u001B[0;34m(arr, indexer, axis, fill_value, allow_fill)\u001B[0m\n\u001B[1;32m    157\u001B[0m     out \u001B[38;5;241m=\u001B[39m np\u001B[38;5;241m.\u001B[39mempty(out_shape, dtype\u001B[38;5;241m=\u001B[39mdtype)\n\u001B[1;32m    159\u001B[0m func \u001B[38;5;241m=\u001B[39m _get_take_nd_function(\n\u001B[1;32m    160\u001B[0m     arr\u001B[38;5;241m.\u001B[39mndim, arr\u001B[38;5;241m.\u001B[39mdtype, out\u001B[38;5;241m.\u001B[39mdtype, axis\u001B[38;5;241m=\u001B[39maxis, mask_info\u001B[38;5;241m=\u001B[39mmask_info\n\u001B[1;32m    161\u001B[0m )\n\u001B[0;32m--> 162\u001B[0m \u001B[43mfunc\u001B[49m\u001B[43m(\u001B[49m\u001B[43marr\u001B[49m\u001B[43m,\u001B[49m\u001B[43m \u001B[49m\u001B[43mindexer\u001B[49m\u001B[43m,\u001B[49m\u001B[43m \u001B[49m\u001B[43mout\u001B[49m\u001B[43m,\u001B[49m\u001B[43m \u001B[49m\u001B[43mfill_value\u001B[49m\u001B[43m)\u001B[49m\n\u001B[1;32m    164\u001B[0m \u001B[38;5;28;01mif\u001B[39;00m flip_order:\n\u001B[1;32m    165\u001B[0m     out \u001B[38;5;241m=\u001B[39m out\u001B[38;5;241m.\u001B[39mT\n",
      "\u001B[0;31mKeyboardInterrupt\u001B[0m: "
     ]
    }
   ],
   "source": [
    "for i in range(1, len(datasets)):\n",
    "    run_algorithms(datasets[i], i)"
   ]
  },
  {
   "cell_type": "code",
   "execution_count": null,
   "metadata": {
    "ExecuteTime": {
     "end_time": "2023-10-17T17:10:13.756631Z",
     "start_time": "2023-10-17T17:10:13.750802Z"
    }
   },
   "outputs": [],
   "source": [
    "target = datasets[1].columns[-1]\n",
    "models.nmeef_sd(datasets[1], target)"
   ]
  },
  {
   "cell_type": "code",
   "execution_count": null,
   "metadata": {},
   "outputs": [],
   "source": [
    "# df_name = []\n",
    "# lens = []\n",
    "# wids = []\n",
    "# meta_df = []\n",
    "# for i in range(len(datasets)):\n",
    "#     try:\n",
    "#         data = arff.loadarff(path+'/'+dataset_names[i])\n",
    "#         df = pd.DataFrame(data[0])\n",
    "#         df = preprocess_dataset(df)\n",
    "#         datasets.append(df)\n",
    "#         df_name.append(dataset_names[i].replace(\".arff\", ''))\n",
    "#         lens.append(df.shape[0])\n",
    "#         wids.append(df.shape[1])\n",
    "#         # print(df)\n",
    "#         run_algorithms(df, i)\n",
    "#     except:\n",
    "#         problematic.append(dataset_names[i])\n",
    "\n",
    "# feature_df = pd.DataFrame({'df_name':df_name, 'length':lens, 'width':wids, 'target_column':target_columns})"
   ]
  },
  {
   "attachments": {},
   "cell_type": "markdown",
   "metadata": {},
   "source": []
  }
 ],
 "metadata": {
  "kernelspec": {
   "name": "rtdm",
   "language": "python",
   "display_name": "Python (RTDM)"
  },
  "language_info": {
   "codemirror_mode": {
    "name": "ipython",
    "version": 3
   },
   "file_extension": ".py",
   "mimetype": "text/x-python",
   "name": "python",
   "nbconvert_exporter": "python",
   "pygments_lexer": "ipython3",
   "version": "3.10.10"
  },
  "orig_nbformat": 4
 },
 "nbformat": 4,
 "nbformat_minor": 2
}
