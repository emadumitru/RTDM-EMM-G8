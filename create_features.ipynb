{
 "cells": [
  {
   "cell_type": "code",
   "execution_count": 1,
   "metadata": {},
   "outputs": [],
   "source": [
    "from os import listdir\n",
    "from os.path import isfile, join\n",
    "import pandas as pd\n",
    "import sys\n",
    "from scipy.io import arff\n",
    "import models\n",
    " \n",
    "path = '/home/zeyno/Desktop/Research_Topics/Datasets'\n",
    "dataset_names = [f for f in listdir(path) if isfile(join(path, f))]"
   ]
  },
  {
   "cell_type": "code",
   "execution_count": 2,
   "metadata": {},
   "outputs": [],
   "source": [
    "def preprocess_dataset(df):\n",
    "    for column in list(df.columns):\n",
    "        if str(df[column][1]).startswith('b'):\n",
    "            unique = df[column].unique()\n",
    "            df[column] = df[column].map({unique[0]: 0, unique[1]: 1})\n",
    "    df = df.dropna()\n",
    "    return df"
   ]
  },
  {
   "cell_type": "code",
   "execution_count": 3,
   "metadata": {},
   "outputs": [],
   "source": [
    "target_columns = [\"class\", \"Class\", \"class\", \"class\", \"contact-lenses\", \"Class\", \"class\", \"Contraceptive_method_used\", \"Class_Rings\", \"Type\", \"class\", \"class\", \"class\", \"class\", \"Class_Rings\", \"Class\", \"Survival_status\", \"type\", \"class\"]"
   ]
  },
  {
   "cell_type": "code",
   "execution_count": null,
   "metadata": {},
   "outputs": [],
   "source": []
  },
  {
   "cell_type": "code",
   "execution_count": 4,
   "metadata": {},
   "outputs": [],
   "source": [
    "def load_datasets():\n",
    "    path = '/home/zeyno/Desktop/Research_Topics/Datasets'\n",
    "    datasets = []\n",
    "    dataset_names = [f for f in listdir(path) if isfile(join(path, f))]\n",
    "    for i in range(len(dataset_names)):\n",
    "        try:\n",
    "            data = arff.loadarff(path+'/'+dataset_names[i])\n",
    "            df = pd.DataFrame(data[0])\n",
    "            df = preprocess_dataset(df)\n",
    "            datasets.append(df)\n",
    "        except:\n",
    "            pass\n",
    "    return datasets"
   ]
  },
  {
   "cell_type": "code",
   "execution_count": 5,
   "metadata": {},
   "outputs": [],
   "source": [
    "datasets = load_datasets()"
   ]
  },
  {
   "cell_type": "code",
   "execution_count": 6,
   "metadata": {},
   "outputs": [],
   "source": [
    "def run_algorithms(df, i):\n",
    "    df = df.dropna()\n",
    "    target = df.columns[-1]\n",
    "    #run sd\n",
    "    # sd = models.sd(df, target)\n",
    "    # print(sd.values())\n",
    "\n",
    "    #cn2_sd\n",
    "    print(\"cn2_sd\")\n",
    "    print(smth le)\n",
    "    cn2_sd = models.cn2_sd(df, target)\n",
    "    print(cn2_sd.values())\n",
    "\n",
    "    #run sd_map\n",
    "    print(\"sd_map\")\n",
    "    sd_map = models.sd_map(df, target, min_support=0.1)\n",
    "    print(sd_map)\n",
    "\n",
    "    #run dssd\n",
    "    print(\"dssd\")\n",
    "    dssd = models.dssd(df, target, min_support=0.1)\n",
    "    print(dssd)\n",
    "\n",
    "    #run nmeef\n",
    "    print(\"nmeef\")\n",
    "    nmeef = models.nmeef_sd(df, target)\n",
    "    print(nmeef)\n",
    "\n",
    "    #run apriori\n",
    "    print(\"apriori\")\n",
    "    a = models.apriori_sd(df, target)\n",
    "    print(a)\n",
    "    print(\"hi\")\n"
   ]
  },
  {
   "cell_type": "code",
   "execution_count": 7,
   "metadata": {},
   "outputs": [
    {
     "name": "stdout",
     "output_type": "stream",
     "text": [
      "0\n",
      "class\n",
      "cn2_sd\n",
      "dict_values([-0.9182958340544896, array([1., 1., 1.]), 1.0, 1, 1.0])\n",
      "sd_map\n"
     ]
    },
    {
     "name": "stderr",
     "output_type": "stream",
     "text": [
      "/home/zeyno/y/lib/python3.10/site-packages/mlxtend/frequent_patterns/fpcommon.py:110: DeprecationWarning: DataFrames with non-bool types result in worse computationalperformance and their support might be discontinued in the future.Please use a DataFrame with bool type\n",
      "  warnings.warn(\n"
     ]
    },
    {
     "name": "stdout",
     "output_type": "stream",
     "text": [
      "        support                                           itemsets   quality\n",
      "0      0.333333                                         (erythema)  0.666667\n",
      "8193   0.333333  (definite_borders, scalp_involvement, koebner_...  0.666667\n",
      "10915  0.333333  (definite_borders, erythema, elongation_of_the...  0.666667\n",
      "10916  0.333333  (spongiosis, definite_borders, erythema, elong...  0.666667\n",
      "10917  0.333333  (definite_borders, erythema, elongation_of_the...  0.666667\n",
      "...         ...                                                ...       ...\n",
      "5469   0.333333  (clubbing_of_the_rete_ridges, munro_microabces...  0.666667\n",
      "5470   0.333333  (spongiosis, clubbing_of_the_rete_ridges, para...  0.666667\n",
      "16384  0.333333  (spongiosis, definite_borders, erythema, clubb...  0.666667\n",
      "15     0.333333                                              (Age) -0.333333\n",
      "4      0.333333                       (knee_and_elbow_involvement) -0.333333\n",
      "\n",
      "[16385 rows x 3 columns]\n",
      "dssd\n",
      "update?\n"
     ]
    },
    {
     "name": "stderr",
     "output_type": "stream",
     "text": [
      "/home/zeyno/y/lib/python3.10/site-packages/mlxtend/frequent_patterns/fpcommon.py:110: DeprecationWarning: DataFrames with non-bool types result in worse computationalperformance and their support might be discontinued in the future.Please use a DataFrame with bool type\n",
      "  warnings.warn(\n"
     ]
    },
    {
     "ename": "KeyboardInterrupt",
     "evalue": "",
     "output_type": "error",
     "traceback": [
      "\u001b[0;31m---------------------------------------------------------------------------\u001b[0m",
      "\u001b[0;31mKeyboardInterrupt\u001b[0m                         Traceback (most recent call last)",
      "\u001b[1;32m/home/zeyno/Desktop/Research_Topics/RTDM-EMM-G8-main/create_features.ipynb Cell 8\u001b[0m in \u001b[0;36m<cell line: 1>\u001b[0;34m()\u001b[0m\n\u001b[1;32m      <a href='vscode-notebook-cell:/home/zeyno/Desktop/Research_Topics/RTDM-EMM-G8-main/create_features.ipynb#X10sZmlsZQ%3D%3D?line=0'>1</a>\u001b[0m \u001b[39mfor\u001b[39;00m i \u001b[39min\u001b[39;00m \u001b[39mrange\u001b[39m(\u001b[39mlen\u001b[39m(datasets)):\n\u001b[0;32m----> <a href='vscode-notebook-cell:/home/zeyno/Desktop/Research_Topics/RTDM-EMM-G8-main/create_features.ipynb#X10sZmlsZQ%3D%3D?line=1'>2</a>\u001b[0m     run_algorithms(datasets[i], i)\n",
      "\u001b[1;32m/home/zeyno/Desktop/Research_Topics/RTDM-EMM-G8-main/create_features.ipynb Cell 8\u001b[0m in \u001b[0;36mrun_algorithms\u001b[0;34m(df, i)\u001b[0m\n\u001b[1;32m     <a href='vscode-notebook-cell:/home/zeyno/Desktop/Research_Topics/RTDM-EMM-G8-main/create_features.ipynb#X10sZmlsZQ%3D%3D?line=19'>20</a>\u001b[0m \u001b[39m#run dssd\u001b[39;00m\n\u001b[1;32m     <a href='vscode-notebook-cell:/home/zeyno/Desktop/Research_Topics/RTDM-EMM-G8-main/create_features.ipynb#X10sZmlsZQ%3D%3D?line=20'>21</a>\u001b[0m \u001b[39mprint\u001b[39m(\u001b[39m\"\u001b[39m\u001b[39mdssd\u001b[39m\u001b[39m\"\u001b[39m)\n\u001b[0;32m---> <a href='vscode-notebook-cell:/home/zeyno/Desktop/Research_Topics/RTDM-EMM-G8-main/create_features.ipynb#X10sZmlsZQ%3D%3D?line=21'>22</a>\u001b[0m dssd \u001b[39m=\u001b[39m models\u001b[39m.\u001b[39;49mdssd(df, target, min_support\u001b[39m=\u001b[39;49m\u001b[39m0.1\u001b[39;49m)\n\u001b[1;32m     <a href='vscode-notebook-cell:/home/zeyno/Desktop/Research_Topics/RTDM-EMM-G8-main/create_features.ipynb#X10sZmlsZQ%3D%3D?line=22'>23</a>\u001b[0m \u001b[39mprint\u001b[39m(dssd)\n\u001b[1;32m     <a href='vscode-notebook-cell:/home/zeyno/Desktop/Research_Topics/RTDM-EMM-G8-main/create_features.ipynb#X10sZmlsZQ%3D%3D?line=24'>25</a>\u001b[0m \u001b[39m#run nmeef\u001b[39;00m\n",
      "File \u001b[0;32m~/Desktop/Research_Topics/RTDM-EMM-G8-main/models.py:250\u001b[0m, in \u001b[0;36mdssd\u001b[0;34m(data, target_column, min_support)\u001b[0m\n\u001b[1;32m    247\u001b[0m support_list \u001b[39m=\u001b[39m [] \n\u001b[1;32m    249\u001b[0m \u001b[39mfor\u001b[39;00m _, row \u001b[39min\u001b[39;00m frequent_itemsets\u001b[39m.\u001b[39miterrows():\n\u001b[0;32m--> 250\u001b[0m     subgroup_data \u001b[39m=\u001b[39m data[np\u001b[39m.\u001b[39;49mlogical_and\u001b[39m.\u001b[39;49mreduce([data[col] \u001b[39mfor\u001b[39;49;00m col \u001b[39min\u001b[39;49;00m row[\u001b[39m'\u001b[39;49m\u001b[39mitemsets\u001b[39;49m\u001b[39m'\u001b[39;49m]])]\n\u001b[1;32m    252\u001b[0m     subgroup_mean \u001b[39m=\u001b[39m subgroup_data[target_column]\u001b[39m.\u001b[39mmean()\n\u001b[1;32m    253\u001b[0m     quality \u001b[39m=\u001b[39m subgroup_mean \u001b[39m-\u001b[39m overall_mean\n",
      "File \u001b[0;32m~/.local/lib/python3.10/site-packages/pandas/core/frame.py:3496\u001b[0m, in \u001b[0;36mDataFrame.__getitem__\u001b[0;34m(self, key)\u001b[0m\n\u001b[1;32m   3494\u001b[0m \u001b[39m# Do we have a (boolean) 1d indexer?\u001b[39;00m\n\u001b[1;32m   3495\u001b[0m \u001b[39mif\u001b[39;00m com\u001b[39m.\u001b[39mis_bool_indexer(key):\n\u001b[0;32m-> 3496\u001b[0m     \u001b[39mreturn\u001b[39;00m \u001b[39mself\u001b[39;49m\u001b[39m.\u001b[39;49m_getitem_bool_array(key)\n\u001b[1;32m   3498\u001b[0m \u001b[39m# We are left with two options: a single key, and a collection of keys,\u001b[39;00m\n\u001b[1;32m   3499\u001b[0m \u001b[39m# We interpret tuples as collections only for non-MultiIndex\u001b[39;00m\n\u001b[1;32m   3500\u001b[0m is_single_key \u001b[39m=\u001b[39m \u001b[39misinstance\u001b[39m(key, \u001b[39mtuple\u001b[39m) \u001b[39mor\u001b[39;00m \u001b[39mnot\u001b[39;00m is_list_like(key)\n",
      "File \u001b[0;32m~/.local/lib/python3.10/site-packages/pandas/core/frame.py:3549\u001b[0m, in \u001b[0;36mDataFrame._getitem_bool_array\u001b[0;34m(self, key)\u001b[0m\n\u001b[1;32m   3543\u001b[0m     \u001b[39mraise\u001b[39;00m \u001b[39mValueError\u001b[39;00m(\n\u001b[1;32m   3544\u001b[0m         \u001b[39mf\u001b[39m\u001b[39m\"\u001b[39m\u001b[39mItem wrong length \u001b[39m\u001b[39m{\u001b[39;00m\u001b[39mlen\u001b[39m(key)\u001b[39m}\u001b[39;00m\u001b[39m instead of \u001b[39m\u001b[39m{\u001b[39;00m\u001b[39mlen\u001b[39m(\u001b[39mself\u001b[39m\u001b[39m.\u001b[39mindex)\u001b[39m}\u001b[39;00m\u001b[39m.\u001b[39m\u001b[39m\"\u001b[39m\n\u001b[1;32m   3545\u001b[0m     )\n\u001b[1;32m   3547\u001b[0m \u001b[39m# check_bool_indexer will throw exception if Series key cannot\u001b[39;00m\n\u001b[1;32m   3548\u001b[0m \u001b[39m# be reindexed to match DataFrame rows\u001b[39;00m\n\u001b[0;32m-> 3549\u001b[0m key \u001b[39m=\u001b[39m check_bool_indexer(\u001b[39mself\u001b[39;49m\u001b[39m.\u001b[39;49mindex, key)\n\u001b[1;32m   3550\u001b[0m indexer \u001b[39m=\u001b[39m key\u001b[39m.\u001b[39mnonzero()[\u001b[39m0\u001b[39m]\n\u001b[1;32m   3551\u001b[0m \u001b[39mreturn\u001b[39;00m \u001b[39mself\u001b[39m\u001b[39m.\u001b[39m_take_with_is_copy(indexer, axis\u001b[39m=\u001b[39m\u001b[39m0\u001b[39m)\n",
      "File \u001b[0;32m~/.local/lib/python3.10/site-packages/pandas/core/indexing.py:2396\u001b[0m, in \u001b[0;36mcheck_bool_indexer\u001b[0;34m(index, key)\u001b[0m\n\u001b[1;32m   2392\u001b[0m \u001b[39melif\u001b[39;00m \u001b[39mnot\u001b[39;00m is_array_like(result):\n\u001b[1;32m   2393\u001b[0m     \u001b[39m# GH 33924\u001b[39;00m\n\u001b[1;32m   2394\u001b[0m     \u001b[39m# key may contain nan elements, check_array_indexer needs bool array\u001b[39;00m\n\u001b[1;32m   2395\u001b[0m     result \u001b[39m=\u001b[39m pd_array(result, dtype\u001b[39m=\u001b[39m\u001b[39mbool\u001b[39m)\n\u001b[0;32m-> 2396\u001b[0m \u001b[39mreturn\u001b[39;00m check_array_indexer(index, result)\n",
      "\u001b[0;31mKeyboardInterrupt\u001b[0m: "
     ]
    }
   ],
   "source": [
    "for i in range(len(datasets)):\n",
    "    run_algorithms(datasets[i], i)"
   ]
  },
  {
   "cell_type": "code",
   "execution_count": 8,
   "metadata": {},
   "outputs": [
    {
     "ename": "TypeError",
     "evalue": "'<' not supported between instances of 'int' and 'tuple'",
     "output_type": "error",
     "traceback": [
      "\u001b[0;31m---------------------------------------------------------------------------\u001b[0m",
      "\u001b[0;31mTypeError\u001b[0m                                 Traceback (most recent call last)",
      "\u001b[1;32m/home/zeyno/Desktop/Research_Topics/RTDM-EMM-G8-main/create_features.ipynb Cell 9\u001b[0m in \u001b[0;36m<cell line: 2>\u001b[0;34m()\u001b[0m\n\u001b[1;32m      <a href='vscode-notebook-cell:/home/zeyno/Desktop/Research_Topics/RTDM-EMM-G8-main/create_features.ipynb#X11sZmlsZQ%3D%3D?line=0'>1</a>\u001b[0m target \u001b[39m=\u001b[39m datasets[\u001b[39m1\u001b[39m]\u001b[39m.\u001b[39mcolumns[\u001b[39m-\u001b[39m\u001b[39m1\u001b[39m]\n\u001b[0;32m----> <a href='vscode-notebook-cell:/home/zeyno/Desktop/Research_Topics/RTDM-EMM-G8-main/create_features.ipynb#X11sZmlsZQ%3D%3D?line=1'>2</a>\u001b[0m models\u001b[39m.\u001b[39;49mnmeef_sd(datasets[\u001b[39m1\u001b[39;49m], target)\n",
      "File \u001b[0;32m~/Desktop/Research_Topics/RTDM-EMM-G8-main/models.py:362\u001b[0m, in \u001b[0;36mnmeef_sd\u001b[0;34m(data, target_column, n_generations, population_size)\u001b[0m\n\u001b[1;32m    359\u001b[0m fitness_values \u001b[39m=\u001b[39m [evaluate_rule(rule) \u001b[39mfor\u001b[39;00m rule \u001b[39min\u001b[39;00m population]\n\u001b[1;32m    361\u001b[0m \u001b[39m# Store best rules and their qualities\u001b[39;00m\n\u001b[0;32m--> 362\u001b[0m sorted_population \u001b[39m=\u001b[39m [x \u001b[39mfor\u001b[39;00m _, x \u001b[39min\u001b[39;00m \u001b[39msorted\u001b[39;49m(\u001b[39mzip\u001b[39;49m(fitness_values, population), reverse\u001b[39m=\u001b[39;49m\u001b[39mTrue\u001b[39;49;00m)]\n\u001b[1;32m    363\u001b[0m best_rules\u001b[39m.\u001b[39mextend(sorted_population[:\u001b[39m5\u001b[39m])\n\u001b[1;32m    364\u001b[0m best_qualities\u001b[39m.\u001b[39mextend(\u001b[39msorted\u001b[39m(\u001b[39mzip\u001b[39m(fitness_values, population), reverse\u001b[39m=\u001b[39m\u001b[39mTrue\u001b[39;00m)[:\u001b[39m5\u001b[39m])\n",
      "\u001b[0;31mTypeError\u001b[0m: '<' not supported between instances of 'int' and 'tuple'"
     ]
    }
   ],
   "source": [
    "target = datasets[1].columns[-1]\n",
    "models.nmeef_sd(datasets[1], target)"
   ]
  },
  {
   "cell_type": "code",
   "execution_count": null,
   "metadata": {},
   "outputs": [],
   "source": [
    "# df_name = []\n",
    "# lens = []\n",
    "# wids = []\n",
    "# meta_df = []\n",
    "# for i in range(len(datasets)):\n",
    "#     try:\n",
    "#         data = arff.loadarff(path+'/'+dataset_names[i])\n",
    "#         df = pd.DataFrame(data[0])\n",
    "#         df = preprocess_dataset(df)\n",
    "#         datasets.append(df)\n",
    "#         df_name.append(dataset_names[i].replace(\".arff\", ''))\n",
    "#         lens.append(df.shape[0])\n",
    "#         wids.append(df.shape[1])\n",
    "#         # print(df)\n",
    "#         run_algorithms(df, i)\n",
    "#     except:\n",
    "#         problematic.append(dataset_names[i])\n",
    "\n",
    "# feature_df = pd.DataFrame({'df_name':df_name, 'length':lens, 'width':wids, 'target_column':target_columns})"
   ]
  },
  {
   "attachments": {},
   "cell_type": "markdown",
   "metadata": {},
   "source": []
  }
 ],
 "metadata": {
  "kernelspec": {
   "display_name": "base",
   "language": "python",
   "name": "python3"
  },
  "language_info": {
   "codemirror_mode": {
    "name": "ipython",
    "version": 3
   },
   "file_extension": ".py",
   "mimetype": "text/x-python",
   "name": "python",
   "nbconvert_exporter": "python",
   "pygments_lexer": "ipython3",
   "version": "3.10.10"
  },
  "orig_nbformat": 4
 },
 "nbformat": 4,
 "nbformat_minor": 2
}
