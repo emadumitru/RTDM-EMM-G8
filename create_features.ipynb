{
 "cells": [
  {
   "cell_type": "code",
   "execution_count": 1,
   "metadata": {},
   "outputs": [],
   "source": [
    "from os import listdir\n",
    "from os.path import isfile, join\n",
    "import pandas as pd\n",
    "import sys\n",
    "from scipy.io import arff\n",
    " \n",
    "path = '/home/zeyno/Desktop/Research_Topics/Datasets'\n",
    "datasets = [f for f in listdir(path) if isfile(join(path, f))]\n"
   ]
  },
  {
   "cell_type": "code",
   "execution_count": 4,
   "metadata": {},
   "outputs": [
    {
     "name": "stdout",
     "output_type": "stream",
     "text": [
      "/home/zeyno/Desktop/Research_Topics/Datasets/dermatology.arff\n",
      "/home/zeyno/Desktop/Research_Topics/Datasets/tic-tac-toe.arff\n",
      "/home/zeyno/Desktop/Research_Topics/Datasets/iris.arff\n",
      "/home/zeyno/Desktop/Research_Topics/Datasets/mushroom.arff\n",
      "/home/zeyno/Desktop/Research_Topics/Datasets/hayes-roth_test.arff\n",
      "/home/zeyno/Desktop/Research_Topics/Datasets/contact-lenses.arff\n",
      "/home/zeyno/Desktop/Research_Topics/Datasets/adult.arff\n",
      "/home/zeyno/Desktop/Research_Topics/Datasets/wisconsin.arff\n",
      "/home/zeyno/Desktop/Research_Topics/Datasets/cmc.arff\n",
      "/home/zeyno/Desktop/Research_Topics/Datasets/hayes-roth_train.arff\n",
      "/home/zeyno/Desktop/Research_Topics/Datasets/glass.arff\n",
      "/home/zeyno/Desktop/Research_Topics/Datasets/labor.arff\n",
      "/home/zeyno/Desktop/Research_Topics/Datasets/ionosphere.arff\n",
      "/home/zeyno/Desktop/Research_Topics/Datasets/car.arff\n",
      "/home/zeyno/Desktop/Research_Topics/Datasets/pima-indians.arff\n",
      "/home/zeyno/Desktop/Research_Topics/Datasets/abalone.arff\n",
      "/home/zeyno/Desktop/Research_Topics/Datasets/balance-scale.arff\n",
      "/home/zeyno/Desktop/Research_Topics/Datasets/soybean.arff\n",
      "/home/zeyno/Desktop/Research_Topics/Datasets/haberman.arff\n",
      "/home/zeyno/Desktop/Research_Topics/Datasets/zoo.arff\n",
      "/home/zeyno/Desktop/Research_Topics/Datasets/credit-a.arff\n"
     ]
    }
   ],
   "source": [
    "ids = []\n",
    "lens = []\n",
    "wids = []\n",
    "problematic = []\n",
    "for i in range(len(datasets) - 1):\n",
    "    print(path+'/'+datasets[i +1])\n",
    "    try:\n",
    "        data = arff.loadarff(path+'/'+datasets[i+1])\n",
    "        df = pd.DataFrame(data[0])\n",
    "        ids.append(i)\n",
    "        lens.append(df.shape[0])\n",
    "        wids.append(df.shape[1])\n",
    "    except:\n",
    "        problematic.append(datasets[i])\n",
    "feature_df = pd.DataFrame({'df_id':ids, 'length':lens, 'width':wids})"
   ]
  },
  {
   "attachments": {},
   "cell_type": "markdown",
   "metadata": {},
   "source": []
  }
 ],
 "metadata": {
  "kernelspec": {
   "display_name": "base",
   "language": "python",
   "name": "python3"
  },
  "language_info": {
   "codemirror_mode": {
    "name": "ipython",
    "version": 3
   },
   "file_extension": ".py",
   "mimetype": "text/x-python",
   "name": "python",
   "nbconvert_exporter": "python",
   "pygments_lexer": "ipython3",
   "version": "3.10.10"
  },
  "orig_nbformat": 4
 },
 "nbformat": 4,
 "nbformat_minor": 2
}
